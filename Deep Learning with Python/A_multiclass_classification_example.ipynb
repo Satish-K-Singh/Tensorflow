{
  "nbformat": 4,
  "nbformat_minor": 0,
  "metadata": {
    "colab": {
      "name": " A multiclass classification example",
      "provenance": [],
      "collapsed_sections": []
    },
    "kernelspec": {
      "name": "python3",
      "display_name": "Python 3"
    }
  },
  "cells": [
    {
      "cell_type": "code",
      "metadata": {
        "id": "zYbaIxRZWdrJ",
        "colab_type": "code",
        "colab": {}
      },
      "source": [
        "from tensorflow.keras.datasets import reuters"
      ],
      "execution_count": 0,
      "outputs": []
    },
    {
      "cell_type": "code",
      "metadata": {
        "id": "JBu4PXKdWpuu",
        "colab_type": "code",
        "colab": {
          "base_uri": "https://localhost:8080/",
          "height": 52
        },
        "outputId": "60026eb0-927b-41e9-c552-dd0a16af04d9"
      },
      "source": [
        "(train_data,train_labels),(test_data,test_labels)=reuters.load_data(num_words=10000)"
      ],
      "execution_count": 2,
      "outputs": [
        {
          "output_type": "stream",
          "text": [
            "Downloading data from https://storage.googleapis.com/tensorflow/tf-keras-datasets/reuters.npz\n",
            "2113536/2110848 [==============================] - 0s 0us/step\n"
          ],
          "name": "stdout"
        }
      ]
    },
    {
      "cell_type": "code",
      "metadata": {
        "id": "e1EljLRGX45l",
        "colab_type": "code",
        "colab": {
          "base_uri": "https://localhost:8080/",
          "height": 52
        },
        "outputId": "22ba9651-89f2-48a0-850e-b34555dc3324"
      },
      "source": [
        "print(len(train_data))\n",
        "print(len(test_data))"
      ],
      "execution_count": 3,
      "outputs": [
        {
          "output_type": "stream",
          "text": [
            "8982\n",
            "2246\n"
          ],
          "name": "stdout"
        }
      ]
    },
    {
      "cell_type": "code",
      "metadata": {
        "id": "0U-RI14pYBJT",
        "colab_type": "code",
        "colab": {
          "base_uri": "https://localhost:8080/",
          "height": 55
        },
        "outputId": "00ecde53-ba49-4b52-cb80-dfb729e00417"
      },
      "source": [
        "print(train_data[0],end='')"
      ],
      "execution_count": 4,
      "outputs": [
        {
          "output_type": "stream",
          "text": [
            "[1, 2, 2, 8, 43, 10, 447, 5, 25, 207, 270, 5, 3095, 111, 16, 369, 186, 90, 67, 7, 89, 5, 19, 102, 6, 19, 124, 15, 90, 67, 84, 22, 482, 26, 7, 48, 4, 49, 8, 864, 39, 209, 154, 6, 151, 6, 83, 11, 15, 22, 155, 11, 15, 7, 48, 9, 4579, 1005, 504, 6, 258, 6, 272, 11, 15, 22, 134, 44, 11, 15, 16, 8, 197, 1245, 90, 67, 52, 29, 209, 30, 32, 132, 6, 109, 15, 17, 12]"
          ],
          "name": "stdout"
        }
      ]
    },
    {
      "cell_type": "code",
      "metadata": {
        "id": "dO1Pi5__YGKT",
        "colab_type": "code",
        "colab": {
          "base_uri": "https://localhost:8080/",
          "height": 52
        },
        "outputId": "f78b7912-f012-4eb9-fb22-e0aab789d678"
      },
      "source": [
        "#Decoding newswires back to text\n",
        "word_index=reuters.get_word_index()\n",
        "reverse_word_index=dict([(value,key) for (key,value) in word_index.items()])\n",
        "decoded_newswire=' '.join([reverse_word_index.get(i-3,'?') for i in train_data[0]])"
      ],
      "execution_count": 5,
      "outputs": [
        {
          "output_type": "stream",
          "text": [
            "Downloading data from https://storage.googleapis.com/tensorflow/tf-keras-datasets/reuters_word_index.json\n",
            "557056/550378 [==============================] - 0s 0us/step\n"
          ],
          "name": "stdout"
        }
      ]
    },
    {
      "cell_type": "code",
      "metadata": {
        "id": "fA0YGJyPYkAa",
        "colab_type": "code",
        "colab": {}
      },
      "source": [
        "import numpy as np\n",
        "def vectorize_sequences(sequences, dimension=10000):\n",
        " results = np.zeros((len(sequences), dimension))\n",
        " for i, sequence in enumerate(sequences):\n",
        "  results[i, sequence] = 1.\n",
        "  return results\n",
        "x_train = vectorize_sequences(train_data)\n",
        "x_test = vectorize_sequences(test_data) "
      ],
      "execution_count": 0,
      "outputs": []
    },
    {
      "cell_type": "code",
      "metadata": {
        "id": "s5pI8hZVYo5D",
        "colab_type": "code",
        "colab": {}
      },
      "source": [
        "def to_one_hot(labels, dimension=46):\n",
        " results = np.zeros((len(labels), dimension))\n",
        " for i, label in enumerate(labels):\n",
        "  results[i, label] = 1.\n",
        "  return results\n",
        "one_hot_train_labels = to_one_hot(train_labels)\n",
        "one_hot_test_labels = to_one_hot(test_labels) "
      ],
      "execution_count": 0,
      "outputs": []
    },
    {
      "cell_type": "code",
      "metadata": {
        "id": "LskPewlTY5fh",
        "colab_type": "code",
        "colab": {}
      },
      "source": [
        "#Note that there is a built-in way to do this in Keras\n",
        "from tensorflow.keras.utils import to_categorical\n",
        "one_hot_train_labels=to_categorical(train_labels)\n",
        "one_hot_test_labels=to_categorical(test_labels)"
      ],
      "execution_count": 0,
      "outputs": []
    },
    {
      "cell_type": "code",
      "metadata": {
        "id": "IZZUc8niZMIo",
        "colab_type": "code",
        "colab": {}
      },
      "source": [
        "from tensorflow import keras\n",
        "model=keras.Sequential([\n",
        "      keras.layers.Dense(64,activation='relu'),\n",
        "      keras.layers.Dense(64,activation='relu'),\n",
        "      keras.layers.Dense(46,activation='softmax')                  \n",
        "])"
      ],
      "execution_count": 0,
      "outputs": []
    },
    {
      "cell_type": "code",
      "metadata": {
        "id": "d7xo4WqzZrKa",
        "colab_type": "code",
        "colab": {}
      },
      "source": [
        "model.compile(optimizer='rmsprop',\n",
        " loss='categorical_crossentropy',\n",
        " metrics=['accuracy'])\n"
      ],
      "execution_count": 0,
      "outputs": []
    },
    {
      "cell_type": "code",
      "metadata": {
        "id": "aVnEEioJaJcC",
        "colab_type": "code",
        "colab": {}
      },
      "source": [
        "x_val = x_train[:1000]\n",
        "partial_x_train = x_train[1000:]\n",
        "y_val = one_hot_train_labels[:1000]\n",
        "partial_y_train = one_hot_train_labels[1000:]\n"
      ],
      "execution_count": 0,
      "outputs": []
    },
    {
      "cell_type": "code",
      "metadata": {
        "id": "CNA48G6SacyY",
        "colab_type": "code",
        "colab": {
          "base_uri": "https://localhost:8080/",
          "height": 711
        },
        "outputId": "c9614396-20b6-4f6b-92ac-e716f2b31eaf"
      },
      "source": [
        "history = model.fit(partial_x_train,\n",
        " partial_y_train,\n",
        " epochs=20,\n",
        " batch_size=512,\n",
        " validation_data=(x_val, y_val))"
      ],
      "execution_count": 20,
      "outputs": [
        {
          "output_type": "stream",
          "text": [
            "Epoch 1/20\n",
            "16/16 [==============================] - 1s 56ms/step - loss: 3.8119 - accuracy: 0.0486 - val_loss: 3.7981 - val_accuracy: 0.2220\n",
            "Epoch 2/20\n",
            "16/16 [==============================] - 1s 44ms/step - loss: 3.7881 - accuracy: 0.2164 - val_loss: 3.7771 - val_accuracy: 0.2220\n",
            "Epoch 3/20\n",
            "16/16 [==============================] - 1s 45ms/step - loss: 3.7676 - accuracy: 0.2164 - val_loss: 3.7571 - val_accuracy: 0.2220\n",
            "Epoch 4/20\n",
            "16/16 [==============================] - 1s 45ms/step - loss: 3.7477 - accuracy: 0.2164 - val_loss: 3.7373 - val_accuracy: 0.2220\n",
            "Epoch 5/20\n",
            "16/16 [==============================] - 1s 45ms/step - loss: 3.7279 - accuracy: 0.2164 - val_loss: 3.7178 - val_accuracy: 0.2220\n",
            "Epoch 6/20\n",
            "16/16 [==============================] - 1s 46ms/step - loss: 3.7084 - accuracy: 0.2164 - val_loss: 3.6984 - val_accuracy: 0.2220\n",
            "Epoch 7/20\n",
            "16/16 [==============================] - 1s 45ms/step - loss: 3.6889 - accuracy: 0.2478 - val_loss: 3.6790 - val_accuracy: 0.2220\n",
            "Epoch 8/20\n",
            "16/16 [==============================] - 1s 46ms/step - loss: 3.6696 - accuracy: 0.2164 - val_loss: 3.6599 - val_accuracy: 0.2220\n",
            "Epoch 9/20\n",
            "16/16 [==============================] - 1s 45ms/step - loss: 3.6505 - accuracy: 0.2534 - val_loss: 3.6409 - val_accuracy: 0.2220\n",
            "Epoch 10/20\n",
            "16/16 [==============================] - 1s 44ms/step - loss: 3.6315 - accuracy: 0.2164 - val_loss: 3.6221 - val_accuracy: 0.2220\n",
            "Epoch 11/20\n",
            "16/16 [==============================] - 1s 45ms/step - loss: 3.6127 - accuracy: 0.2479 - val_loss: 3.6034 - val_accuracy: 0.2220\n",
            "Epoch 12/20\n",
            "16/16 [==============================] - 1s 44ms/step - loss: 3.5940 - accuracy: 0.3150 - val_loss: 3.5848 - val_accuracy: 0.2220\n",
            "Epoch 13/20\n",
            "16/16 [==============================] - 1s 44ms/step - loss: 3.5754 - accuracy: 0.2764 - val_loss: 3.5663 - val_accuracy: 0.3530\n",
            "Epoch 14/20\n",
            "16/16 [==============================] - 1s 44ms/step - loss: 3.5571 - accuracy: 0.3160 - val_loss: 3.5481 - val_accuracy: 0.3530\n",
            "Epoch 15/20\n",
            "16/16 [==============================] - 1s 45ms/step - loss: 3.5388 - accuracy: 0.3514 - val_loss: 3.5300 - val_accuracy: 0.3530\n",
            "Epoch 16/20\n",
            "16/16 [==============================] - 1s 44ms/step - loss: 3.5208 - accuracy: 0.3514 - val_loss: 3.5120 - val_accuracy: 0.3530\n",
            "Epoch 17/20\n",
            "16/16 [==============================] - 1s 43ms/step - loss: 3.5028 - accuracy: 0.3514 - val_loss: 3.4942 - val_accuracy: 0.3530\n",
            "Epoch 18/20\n",
            "16/16 [==============================] - 1s 44ms/step - loss: 3.4851 - accuracy: 0.3514 - val_loss: 3.4765 - val_accuracy: 0.3530\n",
            "Epoch 19/20\n",
            "16/16 [==============================] - 1s 45ms/step - loss: 3.4675 - accuracy: 0.3514 - val_loss: 3.4591 - val_accuracy: 0.3530\n",
            "Epoch 20/20\n",
            "16/16 [==============================] - 1s 45ms/step - loss: 3.4501 - accuracy: 0.3514 - val_loss: 3.4418 - val_accuracy: 0.3530\n"
          ],
          "name": "stdout"
        }
      ]
    },
    {
      "cell_type": "code",
      "metadata": {
        "id": "ZYq-KWr-asIE",
        "colab_type": "code",
        "colab": {
          "base_uri": "https://localhost:8080/",
          "height": 295
        },
        "outputId": "9dae0f50-c6ee-458d-a7e7-f85582e8a175"
      },
      "source": [
        "import matplotlib.pyplot as plt\n",
        "loss = history.history['loss']\n",
        "val_loss = history.history['val_loss']\n",
        "epochs = range(1, len(loss) + 1)\n",
        "plt.plot(epochs, loss, 'bo', label='Training loss')\n",
        "plt.plot(epochs, val_loss, 'b', label='Validation loss')\n",
        "plt.title('Training and validation loss')\n",
        "plt.xlabel('Epochs')\n",
        "plt.ylabel('Loss')\n",
        "plt.legend()\n",
        "plt.show()"
      ],
      "execution_count": 23,
      "outputs": [
        {
          "output_type": "display_data",
          "data": {
            "image/png": "[encoded data removed]",
            "text/plain": [
              "<Figure size 432x288 with 1 Axes>"
            ]
          },
          "metadata": {
            "tags": [],
            "needs_background": "light"
          }
        }
      ]
    },
    {
      "cell_type": "code",
      "metadata": {
        "id": "GFeLGrsibDUa",
        "colab_type": "code",
        "colab": {
          "base_uri": "https://localhost:8080/",
          "height": 295
        },
        "outputId": "b332ab00-b7c5-424a-a613-87643d8b5254"
      },
      "source": [
        "plt.clf()\n",
        "acc = history.history['accuracy']\n",
        "val_acc = history.history['val_accuracy']\n",
        "plt.plot(epochs, acc, 'bo', label='Training accuracy')\n",
        "plt.plot(epochs, val_acc, 'b', label='Validation accuracy')\n",
        "plt.title('Training and validation accuracy')\n",
        "plt.xlabel('Epochs')\n",
        "plt.ylabel('Accuracy')\n",
        "plt.legend()\n",
        "plt.show()\n"
      ],
      "execution_count": 24,
      "outputs": [
        {
          "output_type": "display_data",
          "data": {
            "image/png": "[encoded data removed]",
            "text/plain": [
              "<Figure size 432x288 with 1 Axes>"
            ]
          },
          "metadata": {
            "tags": [],
            "needs_background": "light"
          }
        }
      ]
    },
    {
      "cell_type": "code",
      "metadata": {
        "id": "Rj1zRPuXbSAx",
        "colab_type": "code",
        "colab": {
          "base_uri": "https://localhost:8080/",
          "height": 347
        },
        "outputId": "24e712b9-31e7-440b-83d1-150a2cea7256"
      },
      "source": [
        "model = keras.Sequential([\n",
        " keras.layers.Dense(64, activation='relu'),\n",
        " keras.layers.Dense(64, activation='relu'),\n",
        " keras.layers.Dense(46, activation='softmax')\n",
        "])\n",
        "model.compile(optimizer='rmsprop',\n",
        " loss='categorical_crossentropy',\n",
        " metrics=['accuracy'])\n",
        "model.fit(partial_x_train,\n",
        " partial_y_train,\n",
        " epochs=9,\n",
        " batch_size=512,\n",
        " validation_data=(x_val, y_val))\n",
        "results = model.evaluate(x_test, one_hot_test_labels)"
      ],
      "execution_count": 26,
      "outputs": [
        {
          "output_type": "stream",
          "text": [
            "Epoch 1/9\n",
            "16/16 [==============================] - 1s 49ms/step - loss: 3.8119 - accuracy: 0.0623 - val_loss: 3.7980 - val_accuracy: 0.0440\n",
            "Epoch 2/9\n",
            "16/16 [==============================] - 1s 44ms/step - loss: 3.7881 - accuracy: 0.2746 - val_loss: 3.7770 - val_accuracy: 0.2220\n",
            "Epoch 3/9\n",
            "16/16 [==============================] - 1s 45ms/step - loss: 3.7677 - accuracy: 0.2521 - val_loss: 3.7571 - val_accuracy: 0.3530\n",
            "Epoch 4/9\n",
            "16/16 [==============================] - 1s 45ms/step - loss: 3.7477 - accuracy: 0.3514 - val_loss: 3.7373 - val_accuracy: 0.3530\n",
            "Epoch 5/9\n",
            "16/16 [==============================] - 1s 46ms/step - loss: 3.7279 - accuracy: 0.3391 - val_loss: 3.7177 - val_accuracy: 0.3530\n",
            "Epoch 6/9\n",
            "16/16 [==============================] - 1s 45ms/step - loss: 3.7084 - accuracy: 0.3514 - val_loss: 3.6983 - val_accuracy: 0.3530\n",
            "Epoch 7/9\n",
            "16/16 [==============================] - 1s 45ms/step - loss: 3.6889 - accuracy: 0.3431 - val_loss: 3.6790 - val_accuracy: 0.3530\n",
            "Epoch 8/9\n",
            "16/16 [==============================] - 1s 45ms/step - loss: 3.6696 - accuracy: 0.3514 - val_loss: 3.6599 - val_accuracy: 0.3530\n",
            "Epoch 9/9\n",
            "16/16 [==============================] - 1s 43ms/step - loss: 3.6506 - accuracy: 0.3514 - val_loss: 3.6409 - val_accuracy: 0.3530\n",
            "71/71 [==============================] - 0s 2ms/step - loss: 3.6432 - accuracy: 0.3615\n"
          ],
          "name": "stdout"
        }
      ]
    },
    {
      "cell_type": "code",
      "metadata": {
        "id": "uO08exy5bYDc",
        "colab_type": "code",
        "colab": {
          "base_uri": "https://localhost:8080/",
          "height": 35
        },
        "outputId": "9a916cf0-c79d-47f3-a3b3-2e91898066c9"
      },
      "source": [
        " results"
      ],
      "execution_count": 27,
      "outputs": [
        {
          "output_type": "execute_result",
          "data": {
            "text/plain": [
              "[3.6431877613067627, 0.3615316152572632]"
            ]
          },
          "metadata": {
            "tags": []
          },
          "execution_count": 27
        }
      ]
    },
    {
      "cell_type": "markdown",
      "metadata": {
        "id": "Qt7GsxGnb6MK",
        "colab_type": "text"
      },
      "source": [
        "Predicting house prices: a regression example"
      ]
    },
    {
      "cell_type": "code",
      "metadata": {
        "id": "6kOPoceIb6ng",
        "colab_type": "code",
        "colab": {
          "base_uri": "https://localhost:8080/",
          "height": 52
        },
        "outputId": "eaeea6f2-0e95-446c-d13a-9557b3818902"
      },
      "source": [
        "from tensorflow.keras.datasets import boston_housing\n",
        "(train_data,train_targets),(test_data,test_targets)=boston_housing.load_data()"
      ],
      "execution_count": 28,
      "outputs": [
        {
          "output_type": "stream",
          "text": [
            "Downloading data from https://storage.googleapis.com/tensorflow/tf-keras-datasets/boston_housing.npz\n",
            "57344/57026 [==============================] - 0s 0us/step\n"
          ],
          "name": "stdout"
        }
      ]
    },
    {
      "cell_type": "code",
      "metadata": {
        "id": "sd1a44wTiVJT",
        "colab_type": "code",
        "colab": {
          "base_uri": "https://localhost:8080/",
          "height": 52
        },
        "outputId": "aafb128c-b48b-4ba2-bd3b-2f803f3b60e2"
      },
      "source": [
        "print(train_data.shape)\n",
        "print(test_data.shape)"
      ],
      "execution_count": 29,
      "outputs": [
        {
          "output_type": "stream",
          "text": [
            "(404, 13)\n",
            "(102, 13)\n"
          ],
          "name": "stdout"
        }
      ]
    },
    {
      "cell_type": "code",
      "metadata": {
        "id": "HVhATq1YicyW",
        "colab_type": "code",
        "colab": {}
      },
      "source": [
        "#Normalizing the data\n",
        "mean=train_data.mean(axis=0)\n",
        "train_data-=mean\n",
        "std=train_data.std(axis=0)\n",
        "train_data/=std\n",
        "test_data-=mean\n",
        "test_data/=std"
      ],
      "execution_count": 0,
      "outputs": []
    },
    {
      "cell_type": "code",
      "metadata": {
        "id": "SiO5xxeWieV0",
        "colab_type": "code",
        "colab": {}
      },
      "source": [
        "def build_model():\n",
        "  model=keras.Sequential([\n",
        "        keras.layers.Dense(64,activation='relu'),\n",
        "        keras.layers.Dense(64,activation='relu'),\n",
        "        keras.layers.Dense(1)                  \n",
        "  ])\n",
        "  model.compile(optimizer='rmsprop',loss='mse',metrics=['mae'])\n",
        "  return model"
      ],
      "execution_count": 0,
      "outputs": []
    },
    {
      "cell_type": "code",
      "metadata": {
        "id": "wBxFw5EVjhmA",
        "colab_type": "code",
        "colab": {
          "base_uri": "https://localhost:8080/",
          "height": 87
        },
        "outputId": "94a170f6-c46d-4ba9-f049-c87ae8af6b56"
      },
      "source": [
        "#K-fold validation\n",
        "k = 4\n",
        "num_val_samples = len(train_data) // k\n",
        "num_epochs = 100\n",
        "all_scores = []\n",
        "for i in range(k):\n",
        " print('processing fold #%d' % i)\n",
        " val_data = train_data[i * num_val_samples: (i + 1) * num_val_samples]\n",
        " val_targets = train_targets[i * num_val_samples: (i + 1) * num_val_samples]\n",
        " partial_train_data = np.concatenate(\n",
        " [train_data[:i * num_val_samples],\n",
        " train_data[(i + 1) * num_val_samples:]],\n",
        " axis=0)\n",
        " partial_train_targets = np.concatenate(\n",
        " [train_targets[:i * num_val_samples],\n",
        " train_targets[(i + 1) * num_val_samples:]],\n",
        " axis=0)\n",
        " model = build_model()\n",
        " model.fit(partial_train_data, partial_train_targets,\n",
        " epochs=num_epochs, batch_size=1, verbose=0)\n",
        " val_mse, val_mae = model.evaluate(val_data, val_targets, verbose=0)\n",
        " all_scores.append(val_mae)"
      ],
      "execution_count": 37,
      "outputs": [
        {
          "output_type": "stream",
          "text": [
            "processing fold #0\n",
            "processing fold #1\n",
            "processing fold #2\n",
            "processing fold #3\n"
          ],
          "name": "stdout"
        }
      ]
    },
    {
      "cell_type": "code",
      "metadata": {
        "id": "D8e3m6oPlqPU",
        "colab_type": "code",
        "colab": {
          "base_uri": "https://localhost:8080/",
          "height": 35
        },
        "outputId": "84abe7fd-0e5c-4d70-87fe-52eb2e7f3b33"
      },
      "source": [
        " all_scores"
      ],
      "execution_count": 38,
      "outputs": [
        {
          "output_type": "execute_result",
          "data": {
            "text/plain": [
              "[2.027925491333008, 2.2592718601226807, 2.5375185012817383, 2.5265872478485107]"
            ]
          },
          "metadata": {
            "tags": []
          },
          "execution_count": 38
        }
      ]
    },
    {
      "cell_type": "code",
      "metadata": {
        "id": "fuIQxtBgmBVW",
        "colab_type": "code",
        "colab": {
          "base_uri": "https://localhost:8080/",
          "height": 87
        },
        "outputId": "6c4304d9-3112-4fd6-a9e2-1a2cba3fa59f"
      },
      "source": [
        "num_epochs = 500\n",
        "all_mae_histories = []\n",
        "for i in range(k):\n",
        " print('processing fold #%d' % i)\n",
        " val_data = train_data[i * num_val_samples: (i + 1) * num_val_samples]\n",
        " val_targets = train_targets[i * num_val_samples: (i + 1) * num_val_samples]\n",
        " partial_train_data = np.concatenate(\n",
        " [train_data[:i * num_val_samples],\n",
        " train_data[(i + 1) * num_val_samples:]],\n",
        " axis=0)\n",
        " partial_train_targets = np.concatenate(\n",
        " [train_targets[:i * num_val_samples],\n",
        " train_targets[(i + 1) * num_val_samples:]],\n",
        " axis=0)\n",
        " model = build_model()\n",
        " history = model.fit(partial_train_data, partial_train_targets,\n",
        " validation_data=(val_data, val_targets),\n",
        " epochs=num_epochs, batch_size=1, verbose=0)\n",
        " mae_history = history.history['val_mae']\n",
        " all_mae_histories.append(mae_history)\n"
      ],
      "execution_count": 39,
      "outputs": [
        {
          "output_type": "stream",
          "text": [
            "processing fold #0\n",
            "processing fold #1\n",
            "processing fold #2\n",
            "processing fold #3\n"
          ],
          "name": "stdout"
        }
      ]
    },
    {
      "cell_type": "code",
      "metadata": {
        "id": "DTNsNHXtmDdZ",
        "colab_type": "code",
        "colab": {}
      },
      "source": [
        "average_mae_history = [\n",
        " np.mean([x[i] for x in all_mae_histories]) for i in range(num_epochs)]"
      ],
      "execution_count": 0,
      "outputs": []
    },
    {
      "cell_type": "code",
      "metadata": {
        "id": "P7Jz85tHoSTX",
        "colab_type": "code",
        "colab": {
          "base_uri": "https://localhost:8080/",
          "height": 279
        },
        "outputId": "e6a586d4-f9ab-4e19-b58f-d02b62862dea"
      },
      "source": [
        "plt.plot(range(1, len(average_mae_history) + 1), average_mae_history)\n",
        "plt.xlabel('Epochs')\n",
        "plt.ylabel('Validation MAE')\n",
        "plt.show()\n"
      ],
      "execution_count": 41,
      "outputs": [
        {
          "output_type": "display_data",
          "data": {
            "image/png": "[encoded data removed]",
            "text/plain": [
              "<Figure size 432x288 with 1 Axes>"
            ]
          },
          "metadata": {
            "tags": [],
            "needs_background": "light"
          }
        }
      ]
    },
    {
      "cell_type": "code",
      "metadata": {
        "id": "--0GtN1qoUBR",
        "colab_type": "code",
        "colab": {
          "base_uri": "https://localhost:8080/",
          "height": 279
        },
        "outputId": "6cebf0dd-e02d-4d3c-a72f-221cf9d3d2d6"
      },
      "source": [
        "def smooth_curve(points, factor=0.9):\n",
        " smoothed_points = []\n",
        " for point in points:\n",
        "  if smoothed_points:\n",
        "    previous = smoothed_points[-1]\n",
        "    smoothed_points.append(previous * factor + point * (1 - factor))\n",
        "  else:\n",
        "    smoothed_points.append(point)\n",
        " return smoothed_points\n",
        "smooth_mae_history = smooth_curve(average_mae_history[10:])\n",
        "plt.plot(range(1, len(smooth_mae_history) + 1), smooth_mae_history)\n",
        "plt.xlabel('Epochs')\n",
        "plt.ylabel('Validation MAE')\n",
        "plt.show()\n"
      ],
      "execution_count": 44,
      "outputs": [
        {
          "output_type": "display_data",
          "data": {
            "image/png": "[encoded data removed]",
            "text/plain": [
              "<Figure size 432x288 with 1 Axes>"
            ]
          },
          "metadata": {
            "tags": [],
            "needs_background": "light"
          }
        }
      ]
    },
    {
      "cell_type": "code",
      "metadata": {
        "id": "fWV6MFFRoXe5",
        "colab_type": "code",
        "colab": {
          "base_uri": "https://localhost:8080/",
          "height": 35
        },
        "outputId": "e7f015bf-a339-4afb-83d3-8d137054cc58"
      },
      "source": [
        "model = build_model()\n",
        "model.fit(train_data, train_targets,\n",
        " epochs=80, batch_size=16, verbose=0)\n",
        "test_mse_score, test_mae_score = model.evaluate(test_data, test_targets)"
      ],
      "execution_count": 45,
      "outputs": [
        {
          "output_type": "stream",
          "text": [
            "4/4 [==============================] - 0s 2ms/step - loss: 20.3962 - mae: 2.9317\n"
          ],
          "name": "stdout"
        }
      ]
    },
    {
      "cell_type": "code",
      "metadata": {
        "id": "ifPRSlFfonrB",
        "colab_type": "code",
        "colab": {
          "base_uri": "https://localhost:8080/",
          "height": 35
        },
        "outputId": "b8adbffb-ca51-4dbb-d400-60f52c346b51"
      },
      "source": [
        " test_mae_score"
      ],
      "execution_count": 46,
      "outputs": [
        {
          "output_type": "execute_result",
          "data": {
            "text/plain": [
              "2.9316601753234863"
            ]
          },
          "metadata": {
            "tags": []
          },
          "execution_count": 46
        }
      ]
    },
    {
      "cell_type": "code",
      "metadata": {
        "id": "jpVcJq_voptT",
        "colab_type": "code",
        "colab": {}
      },
      "source": [
        " predictions = model.predict(test_data)"
      ],
      "execution_count": 0,
      "outputs": []
    },
    {
      "cell_type": "code",
      "metadata": {
        "id": "w9jT-Yjkoreb",
        "colab_type": "code",
        "colab": {
          "base_uri": "https://localhost:8080/",
          "height": 35
        },
        "outputId": "ed4f34bd-3735-48ea-df32-6d5f92137b81"
      },
      "source": [
        " predictions[0]"
      ],
      "execution_count": 48,
      "outputs": [
        {
          "output_type": "execute_result",
          "data": {
            "text/plain": [
              "array([7.6060357], dtype=float32)"
            ]
          },
          "metadata": {
            "tags": []
          },
          "execution_count": 48
        }
      ]
    },
    {
      "cell_type": "code",
      "metadata": {
        "id": "dPAb9U1wotul",
        "colab_type": "code",
        "colab": {}
      },
      "source": [
        ""
      ],
      "execution_count": 0,
      "outputs": []
    }
  ]
}